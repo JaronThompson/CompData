{
 "cells": [
  {
   "cell_type": "markdown",
   "metadata": {},
   "source": [
    "# Does compositional data affect differential abundance calculations?"
   ]
  },
  {
   "cell_type": "markdown",
   "metadata": {},
   "source": [
    "Start by generating two populations, where samples in each population represent a vector of 1000 microbial species abundances. \n",
    "\n",
    "Importantly, the two populations are both normalized such that the sum of each vector equals a constant. This means that the data are compositional, and each element represents a proportion of a whole. "
   ]
  },
  {
   "cell_type": "code",
   "execution_count": 1,
   "metadata": {},
   "outputs": [],
   "source": [
    "import numpy as np\n",
    "import matplotlib.pyplot as plt\n",
    "from scipy.stats import ttest_ind as tt\n",
    "from scipy.stats import gamma, poisson"
   ]
  },
  {
   "cell_type": "code",
   "execution_count": 2,
   "metadata": {},
   "outputs": [],
   "source": [
    "# define properties of simulation \n",
    "\n",
    "# number of taxa \n",
    "n = 1000 \n",
    "# define number of samples from population 1 \n",
    "m1 = 20 \n",
    "# define number of samples from population 2 \n",
    "m2 = 30 \n",
    "\n",
    "# define \"p\" percent of taxa to be differentially abundant \n",
    "p = .2"
   ]
  },
  {
   "cell_type": "code",
   "execution_count": 3,
   "metadata": {},
   "outputs": [],
   "source": [
    "# choose taxa such that 10% have high abundance, 30% have medium abundance, and 60% low abundance \n",
    "inds = np.array([0]*int(.6*n) + [1]*int(.3*n) + [2]*int(.1*n))\n",
    "\n",
    "# define a nominal vector from population 1 \n",
    "a1 = 50*np.ones(n)   # low abundance \n",
    "a1[inds==1] = 200    # medium abundance \n",
    "a1[inds==2] = 10000  # High abundance  \n",
    "\n",
    "# need to make \"p\" percent of taxa differentially abundant \n",
    "# we expect p*n taxa to be significantly different across population 1 and population 2 \n",
    "dff_inds = np.array([0]*int((1-p)*n) + [1]*int(p*n))\n",
    "np.random.shuffle(dff_inds)\n",
    "for i, d in enumerate(dff_inds): # for each taxa \n",
    "    if d:                        # if the taxa should be differentially abundant \n",
    "        # randomly switch ind \n",
    "        all_ind_options = np.array([0, 1, 2])\n",
    "        new_ind_options = all_ind_options[all_ind_options != inds[i]]\n",
    "        inds[i] = np.random.choice(new_ind_options) \n",
    "\n",
    "# define a nominal vector from population 2 \n",
    "a2 = 50*np.ones(n)  # low abundance\n",
    "a2[inds==1] = 200   # medium abundance \n",
    "a2[inds==2] = 10000 # High abundance  "
   ]
  },
  {
   "cell_type": "code",
   "execution_count": 4,
   "metadata": {},
   "outputs": [
    {
     "data": {
      "text/plain": [
       "True"
      ]
     },
     "execution_count": 4,
     "metadata": {},
     "output_type": "execute_result"
    }
   ],
   "source": [
    "# confirm that p*n species are different \n",
    "p*n == sum(a1!=a2)"
   ]
  },
  {
   "cell_type": "code",
   "execution_count": 5,
   "metadata": {},
   "outputs": [],
   "source": [
    "# now simulate populations by adding noise to u1 and u2, m1 and m2 times \n",
    "# a random scale is included so that measurements reflect abundance counts between samples\n",
    "\n",
    "# simulate population 1 \n",
    "X1 = np.zeros([n, m1])\n",
    "for j in range(m1):    # for each subject\n",
    "    A_j = np.zeros(n)\n",
    "    for i in range(n): # for each taxon\n",
    "        # mu_ij generated from gamma distribution\n",
    "        mu_ij = gamma.rvs(a1[i], 1)\n",
    "        # A_ij generated from poisson distribution\n",
    "        A_j[i] = poisson.rvs(mu_ij)\n",
    "    # generate abundance at specimen level for j_th subject\n",
    "    # by scaling A_j by factor c_j sampled from uniform\n",
    "    scale = 1/np.random.uniform(100, 200)\n",
    "    # only keep integer part of each taxa \n",
    "    Y_j = np.array(scale*A_j, np.int) \n",
    "    X1[:, j] = Y_j\n",
    "    \n",
    "# define lower and upper bounds for sampling from uniform\n",
    "l = [100, 200, 10000]\n",
    "u = [150, 400, 15000]\n",
    "    \n",
    "# simulate population 2 \n",
    "X2 = np.zeros([n, m2])\n",
    "for j in range(m2):    # for each subject\n",
    "    A_j = np.zeros(n)\n",
    "    for i in range(n): # for each taxon\n",
    "        # mu_ij sampled from gamma distribution\n",
    "        mu_ij = gamma.rvs(a2[i], 1) \n",
    "        # u_ij sampled from uniform \n",
    "        u_ij = np.random.uniform(l[inds[i]], u[inds[i]])\n",
    "        # A_ij sampled from poisson distribution\n",
    "        A_j[i] = poisson.rvs(mu_ij + u_ij)\n",
    "    # generate abundance at specimen level for j_th subject\n",
    "    # by scaling A_j by factor c_j sampled from uniform\n",
    "    scale = 1/np.random.uniform(100, 200)\n",
    "    # only keep integer part of each taxa \n",
    "    Y_j = np.array(scale*A_j, np.int) \n",
    "    X2[:, j] = Y_j"
   ]
  },
  {
   "cell_type": "code",
   "execution_count": 6,
   "metadata": {},
   "outputs": [],
   "source": [
    "# first we'll see what happens when the taxa are not compositional \n",
    "\n",
    "# perform t-test to determine whether taxa are differentially abundant \n",
    "positives = np.zeros(n)\n",
    "for i in range(n):\n",
    "    # for each taxa, perform t-test \n",
    "    stat, pvalue = tt(X1[i, :], X2[i, :])\n",
    "    if pvalue < .05:\n",
    "        positives[i] = 1"
   ]
  },
  {
   "cell_type": "code",
   "execution_count": 7,
   "metadata": {},
   "outputs": [],
   "source": [
    "# calculate the number of false positives (instances where positives == 1 but dff_inds != 1)\n",
    "inds_positive = positives == 1\n",
    "\n",
    "true_positives = np.sum(dff_inds[inds_positive])\n",
    "false_positives = np.sum(dff_inds[inds_positive] == 0) \n",
    "false_negatives = np.sum(positives[dff_inds==1]==0)"
   ]
  },
  {
   "cell_type": "code",
   "execution_count": 8,
   "metadata": {},
   "outputs": [
    {
     "name": "stdout",
     "output_type": "stream",
     "text": [
      "Accuracy: 0.181\n",
      "False discovery rate: 0.815\n"
     ]
    }
   ],
   "source": [
    "acc = sum(positives == dff_inds) / n\n",
    "FDR = false_positives / (false_positives + true_positives)\n",
    "\n",
    "print(\"Accuracy: {:.3f}\".format(acc))\n",
    "print(\"False discovery rate: {:.3f}\".format(FDR))"
   ]
  },
  {
   "cell_type": "markdown",
   "metadata": {},
   "source": [
    "Now re-do the analysis after normalizing the data "
   ]
  },
  {
   "cell_type": "code",
   "execution_count": 9,
   "metadata": {},
   "outputs": [],
   "source": [
    "X1n = X1 / np.sum(X1, 0)\n",
    "X2n = X2 / np.sum(X2, 0)\n",
    "\n",
    "# perform t-test to determine whether taxa are differentially abundant \n",
    "positives = np.zeros(n)\n",
    "for i in range(n):\n",
    "    # for each taxa, perform t-test \n",
    "    stat, pvalue = tt(X1n[i, :], X2n[i, :])\n",
    "    if pvalue < .05:\n",
    "        positives[i] = 1\n",
    "        \n",
    "# calculate the number of false positives (instances where positives == 1 but dff_inds != 1)\n",
    "inds_positive = positives == 1\n",
    "\n",
    "true_positives = np.sum(dff_inds[inds_positive])\n",
    "false_positives = np.sum(dff_inds[inds_positive] == 0) \n",
    "false_negatives = np.sum(positives[dff_inds==1]==0)"
   ]
  },
  {
   "cell_type": "code",
   "execution_count": 10,
   "metadata": {},
   "outputs": [
    {
     "name": "stdout",
     "output_type": "stream",
     "text": [
      "Accuracy: 0.311\n",
      "False discovery rate: 0.775\n"
     ]
    }
   ],
   "source": [
    "acc = sum(positives == dff_inds) / n\n",
    "FDR = false_positives / (false_positives + true_positives)\n",
    "\n",
    "print(\"Accuracy: {:.3f}\".format(acc))\n",
    "print(\"False discovery rate: {:.3f}\".format(FDR))"
   ]
  },
  {
   "cell_type": "markdown",
   "metadata": {},
   "source": [
    "Now try taking a log transform of the data and see what happens"
   ]
  },
  {
   "cell_type": "code",
   "execution_count": 11,
   "metadata": {},
   "outputs": [],
   "source": [
    "X1l = np.log(X1n + .001)\n",
    "X2l = np.log(X2n + .001) \n",
    "\n",
    "# perform t-test to determine whether taxa are differentially abundant \n",
    "positives = np.zeros(n)\n",
    "for i in range(n):\n",
    "    # for each taxa, perform t-test \n",
    "    stat, pvalue = tt(X1l[i, :], X2l[i, :])\n",
    "    if pvalue < .05:\n",
    "        positives[i] = 1\n",
    "        \n",
    "# calculate the number of false positives (instances where positives == 1 but dff_inds != 1)\n",
    "inds_positive = positives == 1\n",
    "\n",
    "true_positives = np.sum(dff_inds[inds_positive])\n",
    "false_positives = np.sum(dff_inds[inds_positive] == 0) \n",
    "false_negatives = np.sum(positives[dff_inds==1]==0)"
   ]
  },
  {
   "cell_type": "code",
   "execution_count": 12,
   "metadata": {},
   "outputs": [
    {
     "name": "stdout",
     "output_type": "stream",
     "text": [
      "Accuracy: 0.317\n",
      "False discovery rate: 0.773\n"
     ]
    }
   ],
   "source": [
    "acc = sum(positives == dff_inds) / n\n",
    "FDR = false_positives / (false_positives + true_positives)\n",
    "\n",
    "print(\"Accuracy: {:.3f}\".format(acc))\n",
    "print(\"False discovery rate: {:.3f}\".format(FDR))"
   ]
  },
  {
   "cell_type": "markdown",
   "metadata": {},
   "source": [
    "Now we'll use ANCOM to analyze the data "
   ]
  },
  {
   "cell_type": "code",
   "execution_count": 13,
   "metadata": {},
   "outputs": [],
   "source": [
    "from skbio.stats.composition import ancom \n",
    "import pandas as pd"
   ]
  },
  {
   "cell_type": "code",
   "execution_count": 14,
   "metadata": {},
   "outputs": [],
   "source": [
    "# create index of sample names \n",
    "index = ['s'+str(i) for i in range(m1+m2)] \n",
    "\n",
    "# create column names \n",
    "columns = ['b'+str(i) for i in range(n)] \n",
    "\n",
    "# have to concatenate data matrices \n",
    "# input to ANCOM is organized (rows=samples, columns=taxa)\n",
    "X = np.concatenate((X1, X2), axis=1).T\n",
    "# X must be strictly positive \n",
    "X = X + 1 \n",
    "\n",
    "table = pd.DataFrame(X, index=index, columns=columns)\n",
    "\n",
    "# assign each sample to a population \n",
    "grouping = pd.Series([0]*m1 + [1]*m2, index=index)"
   ]
  },
  {
   "cell_type": "code",
   "execution_count": 15,
   "metadata": {},
   "outputs": [
    {
     "name": "stderr",
     "output_type": "stream",
     "text": [
      "/home/jaron/anaconda3/lib/python3.5/site-packages/scipy/stats/stats.py:2933: RuntimeWarning: invalid value encountered in double_scalars\n",
      "  f = msb / msw\n"
     ]
    }
   ],
   "source": [
    "# run ancom \n",
    "results = ancom(table, grouping)\n",
    "positives = pd.DataFrame(results[0])['Reject null hypothesis'].values + 0"
   ]
  },
  {
   "cell_type": "code",
   "execution_count": 16,
   "metadata": {},
   "outputs": [
    {
     "name": "stdout",
     "output_type": "stream",
     "text": [
      "Accuracy: 1.000\n",
      "False discovery rate: 0.000\n"
     ]
    }
   ],
   "source": [
    "# calculate the number of false positives (instances where positives == 1 but dff_inds != 1)\n",
    "inds_positive = positives == 1\n",
    "\n",
    "true_positives = np.sum(dff_inds[inds_positive])\n",
    "false_positives = np.sum(dff_inds[inds_positive] == 0) \n",
    "false_negatives = np.sum(positives[dff_inds==1]==0)\n",
    "\n",
    "acc = sum(positives == dff_inds) / n\n",
    "FDR = false_positives / (false_positives + true_positives)\n",
    "\n",
    "print(\"Accuracy: {:.3f}\".format(acc))\n",
    "print(\"False discovery rate: {:.3f}\".format(FDR))"
   ]
  },
  {
   "cell_type": "code",
   "execution_count": 36,
   "metadata": {},
   "outputs": [],
   "source": [
    "import IndicatorSpeciesAnalysis \n",
    "import importlib\n",
    "importlib.reload(IndicatorSpeciesAnalysis)\n",
    "from IndicatorSpeciesAnalysis import IndicatorSpecies"
   ]
  },
  {
   "cell_type": "code",
   "execution_count": 41,
   "metadata": {},
   "outputs": [],
   "source": [
    "table_IS = pd.DataFrame(X-1, index=index, columns=columns)\n",
    "IS = IndicatorSpecies(table, grouping)"
   ]
  },
  {
   "cell_type": "code",
   "execution_count": 47,
   "metadata": {},
   "outputs": [],
   "source": [
    "IS_results = IS.run(nperm=1000, max_p_value=.001)"
   ]
  },
  {
   "cell_type": "code",
   "execution_count": 49,
   "metadata": {},
   "outputs": [
    {
     "data": {
      "text/html": [
       "<div>\n",
       "<style scoped>\n",
       "    .dataframe tbody tr th:only-of-type {\n",
       "        vertical-align: middle;\n",
       "    }\n",
       "\n",
       "    .dataframe tbody tr th {\n",
       "        vertical-align: top;\n",
       "    }\n",
       "\n",
       "    .dataframe thead th {\n",
       "        text-align: right;\n",
       "    }\n",
       "</style>\n",
       "<table border=\"1\" class=\"dataframe\">\n",
       "  <thead>\n",
       "    <tr style=\"text-align: right;\">\n",
       "      <th></th>\n",
       "      <th>OTUs</th>\n",
       "      <th>Stat</th>\n",
       "      <th>Site Label</th>\n",
       "      <th>P value</th>\n",
       "    </tr>\n",
       "  </thead>\n",
       "  <tbody>\n",
       "    <tr>\n",
       "      <th>0</th>\n",
       "      <td>b0</td>\n",
       "      <td>0.801784</td>\n",
       "      <td>1</td>\n",
       "      <td>0.0</td>\n",
       "    </tr>\n",
       "    <tr>\n",
       "      <th>1</th>\n",
       "      <td>b1</td>\n",
       "      <td>0.804400</td>\n",
       "      <td>1</td>\n",
       "      <td>0.0</td>\n",
       "    </tr>\n",
       "    <tr>\n",
       "      <th>2</th>\n",
       "      <td>b2</td>\n",
       "      <td>0.793492</td>\n",
       "      <td>1</td>\n",
       "      <td>0.0</td>\n",
       "    </tr>\n",
       "    <tr>\n",
       "      <th>3</th>\n",
       "      <td>b3</td>\n",
       "      <td>0.996927</td>\n",
       "      <td>1</td>\n",
       "      <td>0.0</td>\n",
       "    </tr>\n",
       "    <tr>\n",
       "      <th>4</th>\n",
       "      <td>b4</td>\n",
       "      <td>0.898717</td>\n",
       "      <td>1</td>\n",
       "      <td>0.0</td>\n",
       "    </tr>\n",
       "  </tbody>\n",
       "</table>\n",
       "</div>"
      ],
      "text/plain": [
       "  OTUs      Stat  Site Label  P value\n",
       "0   b0  0.801784           1      0.0\n",
       "1   b1  0.804400           1      0.0\n",
       "2   b2  0.793492           1      0.0\n",
       "3   b3  0.996927           1      0.0\n",
       "4   b4  0.898717           1      0.0"
      ]
     },
     "execution_count": 49,
     "metadata": {},
     "output_type": "execute_result"
    }
   ],
   "source": [
    "IS_results.head()"
   ]
  },
  {
   "cell_type": "raw",
   "metadata": {},
   "source": [
    "results[0]"
   ]
  }
 ],
 "metadata": {
  "kernelspec": {
   "display_name": "Python 3",
   "language": "python",
   "name": "python3"
  },
  "language_info": {
   "codemirror_mode": {
    "name": "ipython",
    "version": 3
   },
   "file_extension": ".py",
   "mimetype": "text/x-python",
   "name": "python",
   "nbconvert_exporter": "python",
   "pygments_lexer": "ipython3",
   "version": "3.5.4"
  }
 },
 "nbformat": 4,
 "nbformat_minor": 4
}
